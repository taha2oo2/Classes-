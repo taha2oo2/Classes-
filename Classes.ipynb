{
 "cells": [
  {
   "cell_type": "code",
   "execution_count": 1,
   "id": "39e0d890",
   "metadata": {},
   "outputs": [
    {
     "name": "stdout",
     "output_type": "stream",
     "text": [
      "55 3\n",
      "Taha\n"
     ]
    }
   ],
   "source": [
    "from operator import indexOf\n",
    "class Patient():\n",
    "    def __init__(self, last_name,first_name,age):\n",
    "        self.last_name = last_name\n",
    "        self.first_name = first_name\n",
    "        self.age = age\n",
    "        #print(last_name,first_name,age)\n",
    "        \n",
    "a=Patient(\"Taha\",\"Muhammad\",\"15\")\n",
    "b=Patient(\"Maaz\",\"Muhammad\",\"35\")\n",
    "c=Patient(\"Uzair\",\"Khwaja\",\"25\")\n",
    "d=Patient(\"Taha\",\"Syed\",\"55\")\n",
    "e=Patient(\"Faizan\",\"Chawla\",\"25\")\n",
    "f=Patient(\"Khan\",\"Rohan\",\"15\")\n",
    "Patient_age=[a.age,b.age,c.age,d.age,e.age,f.age]\n",
    "max_age=max(Patient_age)\n",
    "index=Patient_age.index(max_age)\n",
    "print(max_age,index)\n",
    "Patient_name=[a.last_name,b.last_name,c.last_name,d.last_name,e.last_name,f.last_name]\n",
    "print(Patient_name[index])"
   ]
  },
  {
   "cell_type": "code",
   "execution_count": null,
   "id": "ad7b8080",
   "metadata": {},
   "outputs": [],
   "source": []
  }
 ],
 "metadata": {
  "kernelspec": {
   "display_name": "Python 3 (ipykernel)",
   "language": "python",
   "name": "python3"
  },
  "language_info": {
   "codemirror_mode": {
    "name": "ipython",
    "version": 3
   },
   "file_extension": ".py",
   "mimetype": "text/x-python",
   "name": "python",
   "nbconvert_exporter": "python",
   "pygments_lexer": "ipython3",
   "version": "3.9.12"
  }
 },
 "nbformat": 4,
 "nbformat_minor": 5
}
